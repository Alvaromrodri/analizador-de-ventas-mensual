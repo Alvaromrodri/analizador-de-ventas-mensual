{
 "cells": [
  {
   "cell_type": "code",
   "execution_count": 3,
   "id": "af358dee",
   "metadata": {},
   "outputs": [],
   "source": [
    "sales_data = [\n",
    "    {\"day\": 1, \"product_a\": 202, \"product_b\": 142, \"product_c\": 164},\n",
    "    {\"day\": 2, \"product_a\": 206, \"product_b\": 121, \"product_c\": 338},\n",
    "    {\"day\": 3, \"product_a\": 120, \"product_b\": 152, \"product_c\": 271},\n",
    "    {\"day\": 4, \"product_a\": 174, \"product_b\": 137, \"product_c\": 266},\n",
    "    {\"day\": 5, \"product_a\": 199, \"product_b\": 153, \"product_c\": 301},\n",
    "    {\"day\": 6, \"product_a\": 230, \"product_b\": 199, \"product_c\": 202},\n",
    "    {\"day\": 7, \"product_a\": 101, \"product_b\": 137, \"product_c\": 307},\n",
    "    {\"day\": 8, \"product_a\": 137, \"product_b\": 179, \"product_c\": 341},\n",
    "    {\"day\": 9, \"product_a\": 287, \"product_b\": 70, \"product_c\": 310},\n",
    "    {\"day\": 10, \"product_a\": 157, \"product_b\": 71, \"product_c\": 238},\n",
    "    {\"day\": 11, \"product_a\": 148, \"product_b\": 108, \"product_c\": 319},\n",
    "    {\"day\": 12, \"product_a\": 287, \"product_b\": 64, \"product_c\": 339},\n",
    "    {\"day\": 13, \"product_a\": 289, \"product_b\": 100, \"product_c\": 257},\n",
    "    {\"day\": 14, \"product_a\": 154, \"product_b\": 113, \"product_c\": 280},\n",
    "    {\"day\": 15, \"product_a\": 150, \"product_b\": 184, \"product_c\": 170},\n",
    "    {\"day\": 16, \"product_a\": 172, \"product_b\": 67, \"product_c\": 281},\n",
    "    {\"day\": 17, \"product_a\": 188, \"product_b\": 109, \"product_c\": 163},\n",
    "    {\"day\": 18, \"product_a\": 108, \"product_b\": 139, \"product_c\": 202},\n",
    "    {\"day\": 19, \"product_a\": 229, \"product_b\": 133, \"product_c\": 241},\n",
    "    {\"day\": 20, \"product_a\": 210, \"product_b\": 57, \"product_c\": 324}\n",
    "]\n"
   ]
  },
  {
   "cell_type": "code",
   "execution_count": 4,
   "id": "14c0a12a",
   "metadata": {},
   "outputs": [],
   "source": [
    "def total_sales_by_product(data, product_key):\n",
    "    \"\"\"Calculates the total sales of a specific product in 20 days.\"\"\"\n",
    "    total_sales = 0\n",
    "    for fila in data:\n",
    "        valor = fila[product_key]\n",
    "        total_sales = total_sales + valor\n",
    "    return total_sales    "
   ]
  },
  {
   "cell_type": "code",
   "execution_count": 10,
   "id": "3e884a07",
   "metadata": {},
   "outputs": [
    {
     "name": "stdout",
     "output_type": "stream",
     "text": [
      "{'day': 1, 'product_a': 202, 'product_b': 142, 'product_c': 164}\n",
      "164\n",
      "164\n",
      "{'day': 2, 'product_a': 206, 'product_b': 121, 'product_c': 338}\n",
      "338\n",
      "502\n",
      "{'day': 3, 'product_a': 120, 'product_b': 152, 'product_c': 271}\n",
      "271\n",
      "773\n",
      "{'day': 4, 'product_a': 174, 'product_b': 137, 'product_c': 266}\n",
      "266\n",
      "1039\n",
      "{'day': 5, 'product_a': 199, 'product_b': 153, 'product_c': 301}\n",
      "301\n",
      "1340\n",
      "{'day': 6, 'product_a': 230, 'product_b': 199, 'product_c': 202}\n",
      "202\n",
      "1542\n",
      "{'day': 7, 'product_a': 101, 'product_b': 137, 'product_c': 307}\n",
      "307\n",
      "1849\n",
      "{'day': 8, 'product_a': 137, 'product_b': 179, 'product_c': 341}\n",
      "341\n",
      "2190\n",
      "{'day': 9, 'product_a': 287, 'product_b': 70, 'product_c': 310}\n",
      "310\n",
      "2500\n",
      "{'day': 10, 'product_a': 157, 'product_b': 71, 'product_c': 238}\n",
      "238\n",
      "2738\n",
      "{'day': 11, 'product_a': 148, 'product_b': 108, 'product_c': 319}\n",
      "319\n",
      "3057\n",
      "{'day': 12, 'product_a': 287, 'product_b': 64, 'product_c': 339}\n",
      "339\n",
      "3396\n",
      "{'day': 13, 'product_a': 289, 'product_b': 100, 'product_c': 257}\n",
      "257\n",
      "3653\n",
      "{'day': 14, 'product_a': 154, 'product_b': 113, 'product_c': 280}\n",
      "280\n",
      "3933\n",
      "{'day': 15, 'product_a': 150, 'product_b': 184, 'product_c': 170}\n",
      "170\n",
      "4103\n",
      "{'day': 16, 'product_a': 172, 'product_b': 67, 'product_c': 281}\n",
      "281\n",
      "4384\n",
      "{'day': 17, 'product_a': 188, 'product_b': 109, 'product_c': 163}\n",
      "163\n",
      "4547\n",
      "{'day': 18, 'product_a': 108, 'product_b': 139, 'product_c': 202}\n",
      "202\n",
      "4749\n",
      "{'day': 19, 'product_a': 229, 'product_b': 133, 'product_c': 241}\n",
      "241\n",
      "4990\n",
      "{'day': 20, 'product_a': 210, 'product_b': 57, 'product_c': 324}\n",
      "324\n",
      "5314\n",
      "5314\n"
     ]
    }
   ],
   "source": [
    "total_sales = 0\n",
    "for fila in sales_data:\n",
    "    print(fila)\n",
    "    valor = fila[\"product_c\"]\n",
    "    print(valor)\n",
    "    total_sales = total_sales + valor \n",
    "    print(total_sales)\n",
    "print(total_sales)"
   ]
  },
  {
   "cell_type": "code",
   "execution_count": 13,
   "id": "5855ac0d",
   "metadata": {},
   "outputs": [],
   "source": [
    "total_sales_a = total_sales_by_product(data = sales_data,product_key = \"product_a\")\n"
   ]
  },
  {
   "cell_type": "code",
   "execution_count": null,
   "id": "93b95798",
   "metadata": {},
   "outputs": [
    {
     "data": {
      "text/plain": [
       "3748"
      ]
     },
     "execution_count": 14,
     "metadata": {},
     "output_type": "execute_result"
    }
   ],
   "source": [
    "def best_selling_day(data):\n",
    "    \"\"\"Finds the day with the highest total sales.\"\"\"\n",
    "    max_ventas = 0\n",
    "    mejor_dia = None\n",
    "\n",
    "    for fila in data:\n",
    "        ventas_totales = fila[\"product_a\"] + fila[\"product_b\"] + fila[\"product_c\"]\n",
    "        if ventas_totales > max_ventas:\n",
    "            max_ventas = ventas_totales\n",
    "            mejor_dia = fila[\"day\"]\n",
    "\n",
    "    return mejor_dia, max_ventas"
   ]
  }
 ],
 "metadata": {
  "kernelspec": {
   "display_name": "Python 3",
   "language": "python",
   "name": "python3"
  },
  "language_info": {
   "codemirror_mode": {
    "name": "ipython",
    "version": 3
   },
   "file_extension": ".py",
   "mimetype": "text/x-python",
   "name": "python",
   "nbconvert_exporter": "python",
   "pygments_lexer": "ipython3",
   "version": "3.12.1"
  }
 },
 "nbformat": 4,
 "nbformat_minor": 5
}
